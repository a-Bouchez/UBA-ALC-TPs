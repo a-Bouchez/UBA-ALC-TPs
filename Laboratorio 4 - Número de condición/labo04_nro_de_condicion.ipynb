{
 "cells": [
  {
   "cell_type": "markdown",
   "metadata": {
    "id": "Kq98NiDqWK-l"
   },
   "source": [
    "# **Laboratorio N°5: Número de Condición**\n"
   ]
  },
  {
   "cell_type": "code",
   "execution_count": 147,
   "metadata": {
    "id": "6atTtblVBdyJ"
   },
   "outputs": [],
   "source": [
    "import numpy as np\n",
    "import matplotlib.pyplot as plt"
   ]
  },
  {
   "cell_type": "markdown",
   "metadata": {
    "id": "FZ4ubXwRWkxS"
   },
   "source": [
    "## Ejercicio 1\n"
   ]
  },
  {
   "cell_type": "markdown",
   "metadata": {
    "id": "g2c9AtS1miT3"
   },
   "source": [
    "En este ejercicio vamos a probar o refutar algunas propiedades sobre el numero de condicion.\n",
    "En cada item tendremos un propiedad que puede ser verdadera o falsa.\n",
    "\n",
    "- En caso de ser verdadera: dar su demostracion.\n",
    "- En caso de ser falsa: utilizar numpy para dar un contraejemplo.\n",
    "\n",
    "Utilizar el comando `np.linalg.cond`.\n"
   ]
  },
  {
   "cell_type": "markdown",
   "metadata": {
    "id": "A-372eKMoxfv"
   },
   "source": [
    "**(a)** $Cond_2(A)$ + $Cond_2(B)$ = $Cond_2(A+B)$\n"
   ]
  },
  {
   "cell_type": "code",
   "execution_count": 148,
   "metadata": {},
   "outputs": [
    {
     "name": "stdout",
     "output_type": "stream",
     "text": [
      "La matriz A es\n",
      "[[0.15439156 0.30994193 0.38502961]\n",
      " [0.95880516 0.22917757 0.28433294]\n",
      " [0.65016814 0.99547504 0.41395079]]\n",
      "El número de condición de A es 6.786482995863621\n",
      "\n",
      "La matriz B es\n",
      "[[0.52386164 0.92725937 0.9786736 ]\n",
      " [0.87866676 0.52535374 0.92051517]\n",
      " [0.89256176 0.50883202 0.01903086]]\n",
      "El número de condición de B es 6.396392786491884\n",
      "\n",
      "La matriz A+B es\n",
      "[[0.6782532  1.2372013  1.36370321]\n",
      " [1.83747192 0.7545313  1.20484811]\n",
      " [1.5427299  1.50430707 0.43298165]]\n",
      "El número de condición de A+B es 4.603596681382404\n",
      "\n",
      "¿Cond_2(A) + Cond_2(B) es aproximadamente igual a Cond_2(A+B)?\n",
      "False\n"
     ]
    }
   ],
   "source": [
    "# Creemos que es falso. Hagamos un contraejemplo.\n",
    "\n",
    "A = np.random.rand(3, 3)\n",
    "B = np.random.rand(3, 3)\n",
    "A_cond = np.linalg.cond(A, 2)\n",
    "B_cond = np.linalg.cond(B, 2)\n",
    "print(\"La matriz A es\")\n",
    "print(A)\n",
    "print(\"El número de condición de A es\", A_cond)\n",
    "print()\n",
    "print(\"La matriz B es\")\n",
    "print(B)\n",
    "print(\"El número de condición de B es\", B_cond)\n",
    "print()\n",
    "\n",
    "AsumB = A + B\n",
    "AsumB_cond = np.linalg.cond(AsumB, 2)\n",
    "print(\"La matriz A+B es\")\n",
    "print(AsumB)\n",
    "print(\"El número de condición de A+B es\", AsumB_cond)\n",
    "print()\n",
    "\n",
    "# Hago np.isclose para comparar los números de condición.\n",
    "print(\"¿Cond_2(A) + Cond_2(B) es aproximadamente igual a Cond_2(A+B)?\")\n",
    "result = np.isclose(A_cond + B_cond, AsumB_cond)\n",
    "print(result)\n",
    "\n",
    "if result:\n",
    "    print(\"Volvé a correr el código\")"
   ]
  },
  {
   "cell_type": "markdown",
   "metadata": {
    "id": "QwSNVeEdrQpB"
   },
   "source": [
    "**(b)** $Cond_1(A)$ - $Cond_1(B)$ = $Cond_2(A-B)$\n"
   ]
  },
  {
   "cell_type": "code",
   "execution_count": 149,
   "metadata": {
    "id": "47LDxl3IrXaP"
   },
   "outputs": [
    {
     "name": "stdout",
     "output_type": "stream",
     "text": [
      "La matriz A es\n",
      "[[0.70688888 0.21069722 0.83632062]\n",
      " [0.03161279 0.4689387  0.45485542]\n",
      " [0.31050935 0.36077799 0.3632414 ]]\n",
      "El número de condición de A es 18.832988118517854\n",
      "\n",
      "La matriz B es\n",
      "[[0.01214256 0.90368407 0.59390209]\n",
      " [0.93893991 0.66163328 0.27286229]\n",
      " [0.80058665 0.09802586 0.29478293]]\n",
      "El número de condición de B es 8.691700825265784\n",
      "\n",
      "La matriz A-B es\n",
      "[[ 0.69474632 -0.69298685  0.24241853]\n",
      " [-0.90732711 -0.19269459  0.18199313]\n",
      " [-0.4900773   0.26275212  0.06845847]]\n",
      "El número de condición de A-B es 11.641814953198539\n",
      "\n",
      "¿Cond_1(A) - Cond_1(B) es aproximadamente igual a Cond_2(A-B)?\n",
      "False\n"
     ]
    }
   ],
   "source": [
    "# Creemos que es falso. Hagamos un contraejemplo.\n",
    "\n",
    "A = np.random.rand(3, 3)\n",
    "B = np.random.rand(3, 3)\n",
    "A_cond = np.linalg.cond(A, 1)\n",
    "B_cond = np.linalg.cond(B, 1)\n",
    "print(\"La matriz A es\")\n",
    "print(A)\n",
    "print(\"El número de condición de A es\", A_cond)\n",
    "print()\n",
    "print(\"La matriz B es\")\n",
    "print(B)\n",
    "print(\"El número de condición de B es\", B_cond)\n",
    "print()\n",
    "\n",
    "AminusB = A - B\n",
    "AminusB_cond = np.linalg.cond(AminusB, 2)\n",
    "print(\"La matriz A-B es\")\n",
    "print(AminusB)\n",
    "print(\"El número de condición de A-B es\", AminusB_cond)\n",
    "print()\n",
    "\n",
    "# Hago np.isclose para comparar los números de condición.\n",
    "print(\"¿Cond_1(A) - Cond_1(B) es aproximadamente igual a Cond_2(A-B)?\")\n",
    "result = np.isclose(A_cond - B_cond, AminusB_cond)\n",
    "print(result)\n",
    "\n",
    "if result:\n",
    "    print(\"Volvé a correr el código\")"
   ]
  },
  {
   "cell_type": "markdown",
   "metadata": {
    "id": "0t1kpuIerYgi"
   },
   "source": [
    "**(c)** $Cond_2(A)$ \\* $Cond_2(B)$ = $Cond_2(A.B)$\n"
   ]
  },
  {
   "cell_type": "code",
   "execution_count": 150,
   "metadata": {
    "id": "4HB6oTEcrhdf"
   },
   "outputs": [
    {
     "name": "stdout",
     "output_type": "stream",
     "text": [
      "La matriz A es\n",
      "[[0.5544283  0.05453338 0.42739885]\n",
      " [0.56044403 0.8364587  0.51653084]\n",
      " [0.60266211 0.77850298 0.07571443]]\n",
      "El número de condición de A es 6.109130958964644\n",
      "\n",
      "La matriz B es\n",
      "[[0.86107707 0.2594889  0.73738059]\n",
      " [0.64884192 0.72692716 0.91277917]\n",
      " [0.1821704  0.77805481 0.78789062]]\n",
      "El número de condición de B es 36.527809970874635\n",
      "\n",
      "La matriz A.B es\n",
      "[[0.59064845 0.51604951 0.79534514]\n",
      " [1.1194116  1.15536285 1.58373243]\n",
      " [1.03785682 0.78120906 1.21464733]]\n",
      "El número de condición de A.B es 113.45183894290906\n",
      "\n",
      "¿Cond_2(A) * Cond_2(B) es aproximadamente igual a Cond_2(A.B)?\n",
      "False\n"
     ]
    }
   ],
   "source": [
    "# Creemos que es falso. Hagamos un contraejemplo.\n",
    "\n",
    "A = np.random.rand(3, 3)\n",
    "B = np.random.rand(3, 3)\n",
    "A_cond = np.linalg.cond(A, 2)\n",
    "B_cond = np.linalg.cond(B, 2)\n",
    "print(\"La matriz A es\")\n",
    "print(A)\n",
    "print(\"El número de condición de A es\", A_cond)\n",
    "print()\n",
    "print(\"La matriz B es\")\n",
    "print(B)\n",
    "print(\"El número de condición de B es\", B_cond)\n",
    "print()\n",
    "\n",
    "AprodB = A@B\n",
    "AprodB_cond = np.linalg.cond(AprodB, 2)\n",
    "print(\"La matriz A.B es\")\n",
    "print(AprodB)\n",
    "print(\"El número de condición de A.B es\", AprodB_cond)\n",
    "print()\n",
    "\n",
    "# Hago np.isclose para comparar los números de condición.\n",
    "print(\"¿Cond_2(A) * Cond_2(B) es aproximadamente igual a Cond_2(A.B)?\")\n",
    "result = np.isclose(A_cond * B_cond, AprodB_cond)\n",
    "print(result)\n",
    "\n",
    "if result:\n",
    "    print(\"Volvé a correr el código\")"
   ]
  },
  {
   "cell_type": "markdown",
   "metadata": {
    "id": "IUuL-FA3WiT9"
   },
   "source": [
    "## Ejercicio 2\n"
   ]
  },
  {
   "cell_type": "markdown",
   "metadata": {
    "id": "8d_oakt6WyjI"
   },
   "source": [
    "El objetivo de este ejercicio es estudiar el número de condición de\n",
    "algunas matrices a medida que su tamaño aumenta.\n"
   ]
  },
  {
   "cell_type": "markdown",
   "metadata": {
    "id": "mtcF4XEcWw2X"
   },
   "source": [
    "**(a)** Programar funciones que, dado $n \\in \\mathbb{N}$, devuelvan las siguientes matrices de $\\mathbb{R}^{n\\times n}$. La función que define $B_n$ ya viene dada.\n"
   ]
  },
  {
   "cell_type": "markdown",
   "metadata": {
    "id": "b_WTw5VmMcXY"
   },
   "source": [
    "\\begin{equation*}\n",
    "A_n=\n",
    "\\begin{pmatrix}\n",
    "\\frac{1}{n} & 0 & 0 & \\cdots & n^2\\\\\n",
    "0 & \\frac{1}{n} & 0 & \\cdots & 0 \\\\\n",
    "0 & 0 & \\frac{1}{n} & \\cdots & 0\\\\\n",
    "\\vdots & \\vdots & \\vdots & \\ddots & \\vdots\\\\\n",
    "1 & 0 & 0 & \\cdots & \\frac{1}{n}\\\\\n",
    "\\end{pmatrix}\n",
    "\\qquad\n",
    "B_n=\n",
    "\\begin{pmatrix}\n",
    "4 & 1 & 0 & \\cdots & 0 & 0\\\\\n",
    "1 & 4 & 1 & \\cdots & 0 & 0 \\\\\n",
    "0 & 1 & 4 & \\ddots & & \\vdots\\\\\n",
    "\\vdots & \\vdots & \\ddots & \\ddots & \\ddots & \\vdots \\\\\n",
    "0 & 0 & & \\ddots & 4 & 1\\\\\n",
    "0 & 0 & \\cdots & \\cdots & 1 & 4 \\\\\n",
    "\\end{pmatrix}\n",
    "\\qquad\n",
    "H_n=\n",
    "\\begin{pmatrix}\n",
    "1 & \\frac{1}{2} & \\frac{1}{3} & \\cdots & \\frac{1}{n}\\\\\n",
    "\\frac{1}{2} & \\frac{1}{3} & \\frac{1}{4} & \\cdots & \\frac{1}{n+1} \\\\\n",
    "\\frac{1}{3} & \\frac{1}{4} & \\frac{1}{5} & \\cdots & \\frac{1}{n+2}\\\\\n",
    "\\vdots & \\vdots & \\vdots & \\ddots & \\vdots\\\\\n",
    "\\frac{1}{n} & \\frac{1}{n+1} & \\frac{1}{n+2} & \\cdots & \\frac{1}{2n-1}\\\\\n",
    "\\end{pmatrix}\n",
    "\\end{equation*}\n"
   ]
  },
  {
   "cell_type": "markdown",
   "metadata": {
    "id": "xtdPNSyPW1VA"
   },
   "source": [
    "**Sugerencia:** Utilizar la función `np.diag` que recibe un array de números y genera una matriz diagonal con elementos dados por el array.\n"
   ]
  },
  {
   "cell_type": "code",
   "execution_count": 151,
   "metadata": {
    "id": "k6zUVVx1TFIK"
   },
   "outputs": [],
   "source": [
    "def matriz_B(n):\n",
    "  B = np.eye(n, k=-1) + 4*np.eye(n, k=0) + np.eye(n, k=1)\n",
    "  return B\n",
    "\n",
    "def matriz_A(n):\n",
    "  array = np.full(n, 1/n)\n",
    "  A = np.diag(array)\n",
    "  A[-1, 0] = 1\n",
    "  A[0, -1] = np.power(n, 2)\n",
    "  return A\n",
    "\n",
    "def matriz_H(n):\n",
    "    i = np.arange(1, n + 1).reshape(-1, 1)\n",
    "    j = np.arange(1, n + 1).reshape(1 , -1)\n",
    "    H = 1 / (i + j - 1)\n",
    "    return H"
   ]
  },
  {
   "cell_type": "markdown",
   "metadata": {
    "id": "7eEfvH42XDN6"
   },
   "source": [
    "**(b)** Graficar para 100 vectores **unitarios** (en norma 2), $v\\in\\mathbb{R^2}$, $\\; A_2v,\\ B_2v,\\ H_2v$\n"
   ]
  },
  {
   "cell_type": "code",
   "execution_count": 152,
   "metadata": {
    "id": "a9PLSevGBdyP"
   },
   "outputs": [
    {
     "data": {
      "text/plain": [
       "<matplotlib.legend.Legend at 0x7ff46823de20>"
      ]
     },
     "execution_count": 152,
     "metadata": {},
     "output_type": "execute_result"
    },
    {
     "data": {
      "image/png": "[encoded data removed]",
      "text/plain": [
       "<Figure size 640x480 with 1 Axes>"
      ]
     },
     "metadata": {},
     "output_type": "display_data"
    }
   ],
   "source": [
    "A = matriz_A(2)\n",
    "B = matriz_B(2)\n",
    "H = matriz_H(2)\n",
    "\n",
    "V = np.random.rand(2, 100) - 0.5 # genero 100 vectores aleatorios de 2 dimensiones\n",
    "                                 # es una matriz de 2x100, donde cada columna define un vector\n",
    "V = V / np.linalg.norm(V, ord=2, axis=0) # normalizo los vectores para que sean unitarios\n",
    "                                         # ord=2 porque quiero la norma 2 (euclídea)\n",
    "                                         # axis=0 porque quiero normalizar cada columna, recuerdo que son 100 vectores de dos elementos\n",
    "                                         # ej, (V[0,i], V[1,i]) da el i-ésimo vector\n",
    "AV = A @ V # multiplicación de la matriz A por los vectores\n",
    "BV = B @ V # multiplicación de la matriz B por los vectores\n",
    "HV = H @ V # multiplicación de la matriz H por los vectores\n",
    "\n",
    "plt.scatter(V[0], V[1], label = \"v\")\n",
    "plt.scatter(AV[0], AV[1], label = \"Av\")\n",
    "plt.scatter(BV[0], BV[1], label = \"Bv\")\n",
    "plt.scatter(HV[0], HV[1], label = \"Hv\")\n",
    "plt.legend()"
   ]
  },
  {
   "cell_type": "markdown",
   "metadata": {
    "id": "Md7M-6jCBdyR"
   },
   "source": [
    "**(c)** Programar una función que, dada una matriz $M_n$ y un número natural $N$, guarde en un vector el valor de $Cond_2(M_n)$ para $1\\leq n \\leq N$.\n"
   ]
  },
  {
   "cell_type": "code",
   "execution_count": 153,
   "metadata": {
    "id": "34JfYEu3XdNy"
   },
   "outputs": [],
   "source": [
    "def vector_condicion(M, N):\n",
    "  n_values = np.arange(1, N + 1)\n",
    "  cond_values = [np.linalg.cond(M(n), 2) for n in n_values]\n",
    "  return np.array(cond_values)\n"
   ]
  },
  {
   "cell_type": "markdown",
   "metadata": {
    "id": "9Ehr99OvXyy_"
   },
   "source": [
    "**(d)** Realizar gráficos del número de condición en norma 2 de las matrices definidas arriba para $N=10$.\n"
   ]
  },
  {
   "cell_type": "code",
   "execution_count": 154,
   "metadata": {
    "id": "iHmlrA7sZf-n"
   },
   "outputs": [
    {
     "data": {
      "image/png": "[encoded data removed]",
      "text/plain": [
       "<Figure size 640x480 with 1 Axes>"
      ]
     },
     "metadata": {},
     "output_type": "display_data"
    }
   ],
   "source": [
    "N = 10\n",
    "x = np.arange(1, N + 1)  # Valores de n desde 1 hasta N\n",
    "y_A = vector_condicion(matriz_A, N)\n",
    "y_B = vector_condicion(matriz_B, N)\n",
    "y_H = vector_condicion(matriz_H, N)\n",
    "\n",
    "plt.plot(x, y_A, label=\"Cond_2(A_n)\")\n",
    "plt.plot(x, y_B, label=\"Cond_2(B_n)\")\n",
    "plt.plot(x, y_H, label=\"Cond_2(H_n)\")\n",
    "plt.yscale(\"log\")  # Escala logarítmica en el eje y\n",
    "plt.xlabel(\"n\")\n",
    "plt.ylabel(\"Cond_2\")\n",
    "plt.title(\"Número de condición en norma 2 para N=\" + str(N))\n",
    "plt.legend()\n",
    "plt.show()"
   ]
  },
  {
   "cell_type": "markdown",
   "metadata": {
    "id": "eZaokS9SaAuA"
   },
   "source": [
    "**Sugerencia:** Si es necesario, utilizar una escala logarítmica en el eje $y$.\n"
   ]
  },
  {
   "cell_type": "markdown",
   "metadata": {
    "id": "fpFKeooJafn3"
   },
   "source": [
    "**(e)** Repetir el ítem (d) para la matriz de Hilbert con $N=50$. ¿Cómo se explica el comportamiento observado?\n",
    "\n",
    "La matriz de Hilbert debe ser mal condicionada, pues su número de condición se va al cuete muy rápidamente mientras la matriz es más grande. En un punto arranca a fluctuar parece, entre matrices \"mejores\" (respectiva a la de $n-1$) y peores (respectiva a la de $n-1$) condicionadas.\n"
   ]
  },
  {
   "cell_type": "code",
   "execution_count": 155,
   "metadata": {
    "id": "XARk-RBZcvqG"
   },
   "outputs": [
    {
     "data": {
      "image/png": "[encoded data removed]",
      "text/plain": [
       "<Figure size 640x480 with 1 Axes>"
      ]
     },
     "metadata": {},
     "output_type": "display_data"
    }
   ],
   "source": [
    "N = 50\n",
    "x = np.arange(1, N + 1)  # Valores de n desde 1 hasta N\n",
    "y_A = vector_condicion(matriz_A, N)\n",
    "y_B = vector_condicion(matriz_B, N)\n",
    "y_H = vector_condicion(matriz_H, N)\n",
    "\n",
    "plt.plot(x, y_A, label=\"Cond_2(A_n)\")\n",
    "plt.plot(x, y_B, label=\"Cond_2(B_n)\")\n",
    "plt.plot(x, y_H, label=\"Cond_2(H_n)\")\n",
    "plt.yscale(\"log\")  # Escala logarítmica en el eje y\n",
    "plt.xlabel(\"n\")\n",
    "plt.ylabel(\"Cond_2\")\n",
    "plt.title(\"Número de condición en norma 2 para N=\" + str(N))\n",
    "plt.legend()\n",
    "plt.show()"
   ]
  },
  {
   "cell_type": "markdown",
   "metadata": {
    "id": "bmaVGeUleqwI"
   },
   "source": [
    "## Ejercicio 3 (Ej 20 - Práctica 2)\n"
   ]
  },
  {
   "cell_type": "markdown",
   "metadata": {
    "id": "P4mH1SW6fmBb"
   },
   "source": [
    "Sea\n",
    "$A=\\left(\n",
    "\\begin{array}{ccc}\n",
    "3&0 & 0\\\\\n",
    "0& \\frac 54 & \\frac 34\\\\\n",
    "0& \\frac 34 & \\frac 54\\\\\n",
    "\\end{array}\n",
    "\\right).$\n"
   ]
  },
  {
   "cell_type": "code",
   "execution_count": 156,
   "metadata": {
    "id": "-0sjdy5Ml4k_"
   },
   "outputs": [],
   "source": [
    "A = np.array([[3.0, 0, 0], [0, 5/4, 3/4], [0, 3/4, 5/4]])"
   ]
  },
  {
   "cell_type": "markdown",
   "metadata": {
    "id": "M-TFe8n7gMXJ"
   },
   "source": [
    "(a) Calcular $Cond_\\infty(A)$.\n",
    "\n",
    "Sé que $Cond_\\infty(A) = ||A||_\\infty \\cdot ||A^{-1}||_\\infty$\n"
   ]
  },
  {
   "cell_type": "code",
   "execution_count": 157,
   "metadata": {
    "id": "k5jQ_Wz-l2I2"
   },
   "outputs": [
    {
     "name": "stdout",
     "output_type": "stream",
     "text": [
      "Cond_∞(A) =  6.0\n",
      "Cond_∞(A) =  6.0\n"
     ]
    }
   ],
   "source": [
    "A_inv = np.linalg.inv(A)\n",
    "\n",
    "A_norm_inf = np.linalg.norm(A, np.inf) # 3\n",
    "A_inv_norm_inf = np.linalg.norm(A_inv, np.inf) # 2\n",
    "\n",
    "A_cond_inf = A_norm_inf * A_inv_norm_inf\n",
    "print(\"Cond_∞(A) = \", A_cond_inf)\n",
    "\n",
    "# o, equivalentemente\n",
    "A_cond_inf = np.linalg.cond(A, np.inf)\n",
    "print(\"Cond_∞(A) = \", A_cond_inf)"
   ]
  },
  {
   "cell_type": "markdown",
   "metadata": {
    "id": "jlUl52wZgPjD"
   },
   "source": [
    "(b) ¿Cuán chico debe ser el error relativo en los datos, $\\frac{\\|b-\\tilde{b}\\|}{\\|b\\|}$, si se desea que el error relativo en la aproximación de la solución, $\\frac{\\|x-\\tilde{x}\\|}{\\|x\\|}, $ sea menor que $10^{-4}$ (en $\\|\\cdot\\|_{\\infty}$)?\n",
    "\n",
    "Sabemos que $\\frac{\\|x-\\tilde{x}\\|_\\infty}{\\|x\\|_\\infty} \\leq  Cond_\\infty(A) \\frac{\\|b-\\tilde{b}\\|_\\infty}{\\|b\\|_\\infty}$. Quiero que $\\frac{\\|x-\\tilde{x}\\|_\\infty}{\\|x\\|_\\infty} < 10^{-4}$.\n",
    "\n",
    "Luego, quiero $\\frac{\\|b-\\tilde{b}\\|_\\infty}{\\|b\\|_\\infty}$ tal que $\\frac{\\|b-\\tilde{b}\\|_\\infty}{\\|b\\|_\\infty} < \\frac{10^{-4}}{6}$.\n"
   ]
  },
  {
   "cell_type": "markdown",
   "metadata": {
    "id": "2wRP31mSgQ5c"
   },
   "source": [
    "(c) Realizar experimentos numéricos para verificar las estimaciones del ítem anterior. Considerar $b=(3,2,2)^t$, que se corresponde con la solución exacta $x=(1,1,1)^t$. Generar vectores de error aleatorios, normalizarlos para que su norma sea tan chica como la estimada en el item anterior y perturbar $b$ obteniendo $\\tilde{b}$. Finalmente, resolver $A\\tilde{x}=\\tilde{b}$ y verificar que $\\|\\tilde{x}-x\\|<10^{-4}$.\n",
    "\n",
    "Sé que $\\tilde{b} = b + \\delta b$. Por el enunciado anterior voy a querer $\\delta b$ tal que\n",
    "$\\|\\delta b\\|_\\infty < \\frac{10^{-4}}{2}$."
   ]
  },
  {
   "cell_type": "code",
   "execution_count": 563,
   "metadata": {
    "id": "5nggErzxl3In"
   },
   "outputs": [
    {
     "name": "stdout",
     "output_type": "stream",
     "text": [
      "b =  [3 2 2]\n",
      "x =  [1 1 1]\n",
      "delta_b =  [-1.46715357e-05 -6.56144437e-06  1.66666667e-05]\n",
      "b_moño =  [2.99998533 1.99999344 2.00001667]\n",
      "x_moño =  [0.99999511 0.9999793  1.00002575]\n",
      "error absoluto =  2.575441661201161e-05\n",
      "es menor que 10^-4 ?\n",
      "True\n",
      "error relativo =  2.575441661201161e-05\n",
      "es menor que 10^-4 ?\n",
      "True\n"
     ]
    }
   ],
   "source": [
    "b = np.array([3, 2, 2])\n",
    "x = np.array([1, 1, 1])\n",
    "max_error_relativo_b = 10**-4 / A_cond_inf\n",
    "\n",
    "print(\"b = \", b)\n",
    "print(\"x = \", x)\n",
    "\n",
    "delta_b = np.random.randn(len(b))\n",
    "delta_b = delta_b / np.linalg.norm(delta_b, np.inf) # Normalizo\n",
    "delta_b = delta_b * max_error_relativo_b # Ahora la norma infinito de delta_b es < 10**-4 / 2\n",
    "print(\"delta_b = \", delta_b)\n",
    "\n",
    "b_moño = b + delta_b\n",
    "print(\"b_moño = \", b_moño)\n",
    "\n",
    "x_moño = np.linalg.solve(A, b_moño)\n",
    "print(\"x_moño = \", x_moño)\n",
    "\n",
    "error_absoluto = np.linalg.norm(x_moño - x, np.inf)\n",
    "print(\"error absoluto = \", error_absoluto)\n",
    "print(\"es menor que 10^-4 ?\")\n",
    "print(error_absoluto < 10**-4)\n",
    "\n",
    "error_relativo = error_absoluto / np.linalg.norm(x, np.inf)\n",
    "print(\"error relativo = \", error_relativo)\n",
    "print(\"es menor que 10^-4 ?\")\n",
    "print(error_relativo < 10**-4)\n"
   ]
  }
 ],
 "metadata": {
  "colab": {
   "provenance": []
  },
  "kernelspec": {
   "display_name": "Python 3",
   "language": "python",
   "name": "python3"
  },
  "language_info": {
   "codemirror_mode": {
    "name": "ipython",
    "version": 3
   },
   "file_extension": ".py",
   "mimetype": "text/x-python",
   "name": "python",
   "nbconvert_exporter": "python",
   "pygments_lexer": "ipython3",
   "version": "3.12.9"
  }
 },
 "nbformat": 4,
 "nbformat_minor": 4
}
